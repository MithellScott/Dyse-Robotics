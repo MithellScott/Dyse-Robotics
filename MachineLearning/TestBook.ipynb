{
 "cells": [
  {
   "cell_type": "code",
   "execution_count": 4,
   "metadata": {},
   "outputs": [],
   "source": [
    "import math\n",
    "import time\n",
    "import random\n",
    "import matplotlib\n",
    "import numpy as np\n",
    "from datetime import datetime\n",
    "import matplotlib.pyplot as plt\n",
    "from matplotlib.patches import Polygon\n",
    "import matplotlib.animation as animation\n",
    "import mpl_toolkits.mplot3d.axes3d as p3\n",
    "PRECISION = 5"
   ]
  },
  {
   "cell_type": "code",
   "execution_count": 5,
   "metadata": {},
   "outputs": [],
   "source": [
    "def distance(p1, p2):\n",
    "        return round(math.sqrt(math.pow(p1[0] - p2[0], 2) + \n",
    "                            math.pow(p1[1] - p2[1], 2) + \n",
    "                            math.pow(p1[2] - p2[2], 2)), PRECISION)"
   ]
  },
  {
   "cell_type": "code",
   "execution_count": 8,
   "metadata": {},
   "outputs": [],
   "source": [
    "angles = [0,0]\n",
    "true_angles = [0,0,0]\n",
    "link_length = 5\n",
    "true_origin = (0,0,0)\n",
    "\n",
    "def set_bow(point):\n",
    "        \n",
    "        l = distance(true_origin, (point[0],0,point[2]))\n",
    "        if l == 0:\n",
    "            if point[1] > len(true_angles) * link_length:\n",
    "                Yoffset = 90\n",
    "            else:\n",
    "                print('Impossible Error(1): point cannot be on origin axis!')\n",
    "                return\n",
    "        else:\n",
    "            Yoffset = math.degrees(math.atan(point[1] / l))\n",
    "        \n",
    "        dist = distance(point, true_origin)\n",
    "        \n",
    "        theta = math.degrees(math.acos((dist - link_length) / (2 * link_length)))\n",
    "        angles[0] = theta\n",
    "        angles[1] = 180 - angles[0]\n",
    "        bow = 2 * link_length * math.cos(math.radians(angles[0])) + link_length\n",
    "        \n",
    "        print(angles)\n",
    "        \n",
    "        true_angles[0] = angles[0] + Yoffset\n",
    "        true_angles[1] = Yoffset\n",
    "        true_angles[2] = Yoffset - angles[1]\n",
    "        \n",
    "        print(true_angles)\n",
    "        return bow\n",
    "    \n"
   ]
  },
  {
   "cell_type": "code",
   "execution_count": 9,
   "metadata": {},
   "outputs": [
    {
     "name": "stdout",
     "output_type": "stream",
     "text": [
      "[78.04713129436136, 101.95286870563864]\n",
      "[78.04713129436136, 0.0, -101.95286870563864]\n"
     ]
    },
    {
     "data": {
      "text/plain": [
       "7.071070000000001"
      ]
     },
     "execution_count": 9,
     "metadata": {},
     "output_type": "execute_result"
    }
   ],
   "source": [
    "set_bow((5,0,5))"
   ]
  },
  {
   "cell_type": "code",
   "execution_count": 15,
   "metadata": {},
   "outputs": [],
   "source": [
    "class Fraction():\n",
    "    \n",
    "    def __init__(self, numerator, denominator):\n",
    "        self.numerator = numerator\n",
    "        self.denominator = denominator\n",
    "    \n",
    "    def add(self, num):\n",
    "        self.numerator += num * self.denominator\n",
    "        \n",
    "    def subtract(self, num):\n",
    "        self.numerator -= num * self.denominator\n",
    "        \n",
    "    def multiply(self, num):\n",
    "        self.numerator *= num\n",
    "    \n",
    "    def divide(self, num):\n",
    "        self.denominator *= num\n",
    "    \n",
    "    def decimal(self):\n",
    "        return decimal.Decimal(self.numerator) / decimal.Decimal(self.denominator)"
   ]
  },
  {
   "cell_type": "code",
   "execution_count": 17,
   "metadata": {},
   "outputs": [
    {
     "data": {
      "text/plain": [
       "Decimal('3.968059882631174489882554615E-17')"
      ]
     },
     "execution_count": 17,
     "metadata": {},
     "output_type": "execute_result"
    }
   ],
   "source": [
    "frac = Fraction(10,3)\n",
    "frac.divide(11111)\n",
    "frac.divide(131313)\n",
    "frac.divide(57575757)\n",
    "frac.decimal()"
   ]
  },
  {
   "cell_type": "code",
   "execution_count": null,
   "metadata": {},
   "outputs": [],
   "source": []
  }
 ],
 "metadata": {
  "kernelspec": {
   "display_name": "Python 3",
   "language": "python",
   "name": "python3"
  },
  "language_info": {
   "codemirror_mode": {
    "name": "ipython",
    "version": 3
   },
   "file_extension": ".py",
   "mimetype": "text/x-python",
   "name": "python",
   "nbconvert_exporter": "python",
   "pygments_lexer": "ipython3",
   "version": "3.6.8"
  }
 },
 "nbformat": 4,
 "nbformat_minor": 2
}
