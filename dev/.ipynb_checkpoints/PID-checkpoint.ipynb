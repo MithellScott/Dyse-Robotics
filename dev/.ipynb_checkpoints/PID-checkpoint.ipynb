{
 "cells": [
  {
   "cell_type": "code",
   "execution_count": 2,
   "metadata": {},
   "outputs": [],
   "source": [
    "import numpy as np\n",
    "import matplotlib.pyplot as plt"
   ]
  },
  {
   "cell_type": "code",
   "execution_count": 186,
   "metadata": {},
   "outputs": [],
   "source": [
    "class PID():\n",
    "    def __init__(self, state_space, action_space, actuation_mat, target=[], kp=0.1, ki=0.1, kd=0.05, memory=1000):\n",
    "        self.kp = kp\n",
    "        self.ki = ki\n",
    "        self.kd = kd\n",
    "        self.memory = memory\n",
    "        self.previous_error = np.zeros(state_space)\n",
    "        self.error_accumulator = np.zeros(state_space)\n",
    "        self.history = {'error':[], 'state':[]}\n",
    "        self.state_space = state_space\n",
    "        self.action_space = action_space\n",
    "        self.actuation_mat = actuation_mat\n",
    "        assert state_space == actuation_mat.shape[1], f'State space does not match Actuation dimension'\n",
    "        assert action_space == actuation_mat.shape[0], f'Action space does not match Actuation dimension'\n",
    "        \n",
    "    def observe(self, error, state):\n",
    "        \"\"\" records the convergence history\"\"\"\n",
    "        self.history['error'].append(error)\n",
    "        self.history['state'].append(state)\n",
    "        \n",
    "    def converge(self, state, target, dt=0.05):\n",
    "        \"\"\" very basic PID implementation\"\"\"\n",
    "            \n",
    "        error = target - state\n",
    "        \n",
    "        self.error_accumulator += error\n",
    "        \n",
    "        p = self.kp * error\n",
    "        i = self.ki * self.error_accumulator\n",
    "        d = self.kd * (self.previous_error - error) / dt\n",
    "        \n",
    "        self.observe(error, state)\n",
    "        self.previous_error = error\n",
    "        \n",
    "        return np.array(p+i+d)\n",
    "        \n",
    "    def analyze_history(self, target):\n",
    "        \"\"\" get the statistics on the previous convergence\n",
    "        this is only setup for development and not tested against\n",
    "        a multiple convergences or states with dimension greater than 1\"\"\"\n",
    "        t = -1 # time to init overshoot\n",
    "        found_first_peak = False\n",
    "        passed_first_peak = False\n",
    "        a = np.zeros(self.state_space) # max overshoot error\n",
    "        d = np.zeros(self.state_space) # second max overshoot error\n",
    "        \n",
    "        for i,e in enumerate(self.history['error']): \n",
    "            if e < 1e-1 or not np.sign(e) == np.sign(self.history['error'][i+1]): \n",
    "                if t == -1:\n",
    "                    t = i\n",
    "            if self.history['state'][i] - self.history['state'][i-1] < 1e-3:\n",
    "                # if state has passed target ie overshoot\n",
    "                if not found_first_peak and np.linalg.norm(e) > np.linalg.norm(a): \n",
    "                    # save max overshoot and time of overshoot\n",
    "                    a = e\n",
    "                    found_first_peak = True\n",
    "                    \n",
    "                elif passed_first_peak and np.linalg.norm(e) > np.linalg.norm(d):\n",
    "                    d = e\n",
    "                    \n",
    "            elif found_first_peak:\n",
    "                passed_first_peak = True\n",
    "                    \n",
    "        a = np.linalg.norm(a)\n",
    "        d = np.linalg.norm(d)\n",
    "        target = np.linalg.norm(target)\n",
    "        if a == 0:\n",
    "            return t + np.linalg.norm(self.history['error'][-1]), t\n",
    "        return t + (a**2 + (target * d) / (a * target)), t"
   ]
  },
  {
   "cell_type": "code",
   "execution_count": 187,
   "metadata": {},
   "outputs": [
    {
     "data": {
      "image/png": "[encoded data removed]",
      "text/plain": [
       "<Figure size 432x288 with 1 Axes>"
      ]
     },
     "metadata": {
      "needs_background": "light"
     },
     "output_type": "display_data"
    }
   ],
   "source": [
    "holonomic_actuation = np.matrix([[1]])\n",
    "steps = 50\n",
    "\n",
    "pid = PID(1,1,holonomic_actuation, kp=0.1, ki=0.1, kd=0.0)\n",
    "target = np.array([10.0])\n",
    "s = np.array([0.0])\n",
    "\n",
    "for i in range(steps):\n",
    "    s = pid.converge(s, target=target)[0] + s\n",
    "\n",
    "plt.plot(np.arange(steps), pid.history['state'], color='b', label='pose')\n",
    "plt.plot(np.arange(steps), pid.history['error'], color='r', label='error')\n",
    "plt.legend()\n",
    "plt.show()"
   ]
  },
  {
   "cell_type": "markdown",
   "metadata": {},
   "source": [
    "### Self tuning\n",
    "\n",
    "The controller will converge to a state by making small actuator adjustments (via motor speeds or control param)\n",
    "\n",
    "The quality of convergence is determined by the time to reach the target (t), the ratio of the max overshoot($\\frac{a}{target}$), and the ratio of overshoot decay ($\\frac{d}{a}$)\n",
    "$$f(kp,ki,kd) = t + \\frac{a}{target} + \\frac{d}{a} = t + \\frac{a^2+target*d}{target*a}$$\n",
    "Although it is possible for the overshoot to be undefined and in this case the score will be a function of the time to get to the goal minus the most recent error. As this will often be negative any value of F < 0 should be ignored or treated as invalid."
   ]
  },
  {
   "cell_type": "code",
   "execution_count": 188,
   "metadata": {},
   "outputs": [
    {
     "data": {
      "text/plain": [
       "(103.654210432, 3)"
      ]
     },
     "execution_count": 188,
     "metadata": {},
     "output_type": "execute_result"
    }
   ],
   "source": [
    "pid.analyze_history(target)"
   ]
  },
  {
   "cell_type": "code",
   "execution_count": 154,
   "metadata": {},
   "outputs": [
    {
     "data": {
      "text/plain": [
       "(-1.0572641689702245, -1)"
      ]
     },
     "execution_count": 154,
     "metadata": {},
     "output_type": "execute_result"
    }
   ],
   "source": [
    "pid.analyze_history(target)"
   ]
  },
  {
   "cell_type": "code",
   "execution_count": 115,
   "metadata": {},
   "outputs": [
    {
     "data": {
      "text/plain": [
       "13.278183469364707"
      ]
     },
     "execution_count": 115,
     "metadata": {},
     "output_type": "execute_result"
    }
   ],
   "source": [
    "pid.analyze_history(target)"
   ]
  },
  {
   "cell_type": "code",
   "execution_count": null,
   "metadata": {},
   "outputs": [],
   "source": []
  }
 ],
 "metadata": {
  "kernelspec": {
   "display_name": "Python 3",
   "language": "python",
   "name": "python3"
  },
  "language_info": {
   "codemirror_mode": {
    "name": "ipython",
    "version": 3
   },
   "file_extension": ".py",
   "mimetype": "text/x-python",
   "name": "python",
   "nbconvert_exporter": "python",
   "pygments_lexer": "ipython3",
   "version": "3.6.9"
  }
 },
 "nbformat": 4,
 "nbformat_minor": 4
}
