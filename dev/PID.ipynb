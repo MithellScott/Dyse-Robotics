{
 "cells": [
  {
   "cell_type": "code",
   "execution_count": 1,
   "metadata": {},
   "outputs": [],
   "source": [
    "import numpy as np\n",
    "import matplotlib.pyplot as plt"
   ]
  },
  {
   "cell_type": "code",
   "execution_count": 35,
   "metadata": {},
   "outputs": [],
   "source": [
    "class PID():\n",
    "    def __init__(self, state_space, action_space, actuation_mat, target=[], kp=0.1, ki=0.1, kd=0.05, memory=1000):\n",
    "        self.kp = kp\n",
    "        self.ki = ki\n",
    "        self.kd = kd\n",
    "        self.memory = memory\n",
    "        self.previous_error = 0.0\n",
    "        self.error_accumulator = 0.0\n",
    "        self.history = np.empty((4), object)\n",
    "        self.target = np.array(target)\n",
    "        self.state_space = state_space\n",
    "        self.action_space = action_space\n",
    "        self.actuation_mat = actuation_mat\n",
    "        assert state_space == actuation_mat.shape[1], f'State space does not match Actuation dimension'\n",
    "        assert action_space == actuation_mat.shape[0], f'Action space does not match Actuation dimension'\n",
    "        \n",
    "    def observe(self, error, target):\n",
    "        event = np.array([error, self.previous_error, self.error_accumulator, target], dtype=object)\n",
    "        \n",
    "        if self.history.shape[0] < self.memory:\n",
    "            np.append(self.history, event)\n",
    "        else:\n",
    "            self.history[-1] = event\n",
    "        \n",
    "    def control(self, state, target=[]):\n",
    "        if len(target) == 0:\n",
    "            assert self.target.shape[0] > 0, f'Cannot converge target is empty'\n",
    "            target = self.target\n",
    "            \n",
    "        error = target - state\n",
    "        self.error_accumulator += error\n",
    "        \n",
    "        p = self.kp * error\n",
    "        i = self.ki * self.error_accumulator\n",
    "        d = self.kd * (self.previous_error - error)\n",
    "        \n",
    "        self.observe(error, target)\n",
    "        self.previous_error = error\n",
    "        \n",
    "        return np.array(np.matmul(self.actuation_mat, p + i + d))[0]\n",
    "        "
   ]
  },
  {
   "cell_type": "code",
   "execution_count": 39,
   "metadata": {},
   "outputs": [
    {
     "data": {
      "text/plain": [
       "[<matplotlib.lines.Line2D at 0x7f11aef6ae10>]"
      ]
     },
     "execution_count": 39,
     "metadata": {},
     "output_type": "execute_result"
    },
    {
     "data": {
      "image/png": "[encoded data removed]",
      "text/plain": [
       "<Figure size 432x288 with 1 Axes>"
      ]
     },
     "metadata": {
      "needs_background": "light"
     },
     "output_type": "display_data"
    }
   ],
   "source": [
    "holonomic_actuation = np.matrix([[1]])\n",
    "\n",
    "pid = PID(1,1,holonomic_actuation)\n",
    "target = np.array([10])\n",
    "s = np.array([0])\n",
    "record = [s]\n",
    "\n",
    "for i in range(100):\n",
    "    s = pid.control(s, target=target)\n",
    "    record.append(s)\n",
    "    \n",
    "plt.plot(np.arange(0,101), record)"
   ]
  },
  {
   "cell_type": "code",
   "execution_count": null,
   "metadata": {},
   "outputs": [],
   "source": []
  }
 ],
 "metadata": {
  "kernelspec": {
   "display_name": "Python 3",
   "language": "python",
   "name": "python3"
  },
  "language_info": {
   "codemirror_mode": {
    "name": "ipython",
    "version": 3
   },
   "file_extension": ".py",
   "mimetype": "text/x-python",
   "name": "python",
   "nbconvert_exporter": "python",
   "pygments_lexer": "ipython3",
   "version": "3.6.9"
  }
 },
 "nbformat": 4,
 "nbformat_minor": 4
}
